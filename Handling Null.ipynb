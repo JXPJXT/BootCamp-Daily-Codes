{
 "cells": [
  {
   "cell_type": "markdown",
   "metadata": {},
   "source": [
    "# Handling Null Values and Outliers in Python\n",
    "\n",
    "## 1. Introduction\n",
    "\n",
    "Data cleaning is a critical step in the data preprocessing workflow. It ensures that the dataset is free from inconsistencies, inaccuracies, and unwanted noise, thereby improving the quality of the data. Handling null values and outliers is an essential part of this process.\n",
    "\n",
    "### 1.1. Null Values\n",
    "\n",
    "Null values, or missing values, occur when no data value is stored for a variable in an observation. These can result from various reasons such as data entry errors, missing data during collection, or data corruption. Handling null values appropriately is crucial because they can lead to biased estimates, reduced statistical power, and misleading conclusions.\n",
    "\n",
    "### 1.2. Outliers\n",
    "\n",
    "Outliers are data points that differ significantly from other observations. They can occur due to variability in the data, measurement errors, or experimental errors. Outliers can distort statistical analyses and models, leading to inaccurate results. Identifying and handling outliers helps improve the robustness and accuracy of the data analysis.\n",
    "\n",
    "## 2. Handling Null Values\n",
    "\n",
    "### 2.1. Identifying Null Values\n",
    "\n",
    "The first step in handling null values is identifying where they exist in the dataset. In Pandas, this can be done using the `isnull()` and `sum()` functions.\n",
    "\n",
    "```python\n",
    "import pandas as pd\n",
    "\n",
    "# Load example dataset\n",
    "data = pd.DataFrame({\n",
    "    'A': [1, 2, None, 4, 5],\n",
    "    'B': [None, 2, 3, None, 5],\n",
    "    'C': [1, None, None, 4, None]\n",
    "})\n",
    "\n",
    "# Identify null values\n",
    "null_values = data.isnull()\n",
    "print(null_values)\n",
    "\n",
    "# Count null values in each column\n",
    "null_counts = data.isnull().sum()\n",
    "print(null_counts)\n"
   ]
  },
  {
   "cell_type": "markdown",
   "metadata": {},
   "source": [
    "### 2.2. Removing Rows with Null Values"
   ]
  },
  {
   "cell_type": "code",
   "execution_count": null,
   "metadata": {},
   "outputs": [],
   "source": [
    "# Remove rows with any null values\n",
    "data_dropped_rows = data.dropna()\n",
    "print(data_dropped_rows)\n"
   ]
  },
  {
   "cell_type": "markdown",
   "metadata": {},
   "source": [
    "### 2.3. Imputing Null Values"
   ]
  },
  {
   "cell_type": "code",
   "execution_count": 1,
   "metadata": {},
   "outputs": [
    {
     "ename": "NameError",
     "evalue": "name 'data' is not defined",
     "output_type": "error",
     "traceback": [
      "\u001b[1;31m---------------------------------------------------------------------------\u001b[0m",
      "\u001b[1;31mNameError\u001b[0m                                 Traceback (most recent call last)",
      "Cell \u001b[1;32mIn[1], line 2\u001b[0m\n\u001b[0;32m      1\u001b[0m \u001b[38;5;66;03m# Impute null values with the mean of the column\u001b[39;00m\n\u001b[1;32m----> 2\u001b[0m data_imputed_mean \u001b[38;5;241m=\u001b[39m \u001b[43mdata\u001b[49m\u001b[38;5;241m.\u001b[39mfillna(data\u001b[38;5;241m.\u001b[39mmean())\n\u001b[0;32m      3\u001b[0m \u001b[38;5;28mprint\u001b[39m(data_imputed_mean)\n",
      "\u001b[1;31mNameError\u001b[0m: name 'data' is not defined"
     ]
    }
   ],
   "source": [
    "# Impute null values with the mean of the column\n",
    "data_imputed_mean = data.fillna(data.mean())\n",
    "print(data_imputed_mean)\n"
   ]
  },
  {
   "cell_type": "markdown",
   "metadata": {},
   "source": [
    "## 3. Handling Outliers\n",
    "### 3.1. Identifying Outliers\n",
    "Outliers can be identified using various methods, such as box plots. Here is an example of identifying outliers in a column 'X' using a box plot."
   ]
  },
  {
   "cell_type": "code",
   "execution_count": 2,
   "metadata": {},
   "outputs": [
    {
     "ename": "NameError",
     "evalue": "name 'data' is not defined",
     "output_type": "error",
     "traceback": [
      "\u001b[1;31m---------------------------------------------------------------------------\u001b[0m",
      "\u001b[1;31mNameError\u001b[0m                                 Traceback (most recent call last)",
      "Cell \u001b[1;32mIn[2], line 4\u001b[0m\n\u001b[0;32m      1\u001b[0m \u001b[38;5;28;01mimport\u001b[39;00m \u001b[38;5;21;01mmatplotlib\u001b[39;00m\u001b[38;5;21;01m.\u001b[39;00m\u001b[38;5;21;01mpyplot\u001b[39;00m \u001b[38;5;28;01mas\u001b[39;00m \u001b[38;5;21;01mplt\u001b[39;00m\n\u001b[0;32m      3\u001b[0m \u001b[38;5;66;03m# Visualize outliers using box plot\u001b[39;00m\n\u001b[1;32m----> 4\u001b[0m plt\u001b[38;5;241m.\u001b[39mboxplot(\u001b[43mdata\u001b[49m[\u001b[38;5;124m'\u001b[39m\u001b[38;5;124mA\u001b[39m\u001b[38;5;124m'\u001b[39m]\u001b[38;5;241m.\u001b[39mdropna())\n\u001b[0;32m      5\u001b[0m plt\u001b[38;5;241m.\u001b[39mtitle(\u001b[38;5;124m'\u001b[39m\u001b[38;5;124mBox plot of A\u001b[39m\u001b[38;5;124m'\u001b[39m)\n\u001b[0;32m      6\u001b[0m plt\u001b[38;5;241m.\u001b[39mshow()\n",
      "\u001b[1;31mNameError\u001b[0m: name 'data' is not defined"
     ]
    }
   ],
   "source": [
    "import matplotlib.pyplot as plt\n",
    "\n",
    "# Visualize outliers using box plot\n",
    "plt.boxplot(data['A'].dropna())\n",
    "plt.title('Box plot of A')\n",
    "plt.show()\n"
   ]
  },
  {
   "cell_type": "markdown",
   "metadata": {},
   "source": [
    "### 3.2. Removing Outliers using the IQR Method"
   ]
  },
  {
   "cell_type": "code",
   "execution_count": 3,
   "metadata": {},
   "outputs": [
    {
     "ename": "NameError",
     "evalue": "name 'data' is not defined",
     "output_type": "error",
     "traceback": [
      "\u001b[1;31m---------------------------------------------------------------------------\u001b[0m",
      "\u001b[1;31mNameError\u001b[0m                                 Traceback (most recent call last)",
      "Cell \u001b[1;32mIn[3], line 2\u001b[0m\n\u001b[0;32m      1\u001b[0m \u001b[38;5;66;03m# Remove outliers using IQR method\u001b[39;00m\n\u001b[1;32m----> 2\u001b[0m Q1 \u001b[38;5;241m=\u001b[39m \u001b[43mdata\u001b[49m\u001b[38;5;241m.\u001b[39mquantile(\u001b[38;5;241m0.25\u001b[39m)\n\u001b[0;32m      3\u001b[0m Q3 \u001b[38;5;241m=\u001b[39m data\u001b[38;5;241m.\u001b[39mquantile(\u001b[38;5;241m0.75\u001b[39m)\n\u001b[0;32m      4\u001b[0m IQR \u001b[38;5;241m=\u001b[39m Q3 \u001b[38;5;241m-\u001b[39m Q1\n",
      "\u001b[1;31mNameError\u001b[0m: name 'data' is not defined"
     ]
    }
   ],
   "source": [
    "# Remove outliers using IQR method\n",
    "Q1 = data.quantile(0.25)\n",
    "Q3 = data.quantile(0.75)\n",
    "IQR = Q3 - Q1\n",
    "\n",
    "data_no_outliers = data[~((data < (Q1 - 1.5 * IQR)) | (data > (Q3 + 1.5 * IQR))).any(axis=1)]\n",
    "print(data_no_outliers)\n"
   ]
  },
  {
   "cell_type": "markdown",
   "metadata": {},
   "source": [
    "## 4. Questions and Answers\n",
    "### Q1. Identify null values in a DataFrame."
   ]
  },
  {
   "cell_type": "code",
   "execution_count": 4,
   "metadata": {},
   "outputs": [
    {
     "name": "stdout",
     "output_type": "stream",
     "text": [
      "       X      Y      Z\n",
      "0  False  False  False\n",
      "1   True  False  False\n",
      "2  False   True   True\n",
      "3  False   True  False\n",
      "4  False  False   True\n",
      "X    1\n",
      "Y    2\n",
      "Z    2\n",
      "dtype: int64\n"
     ]
    }
   ],
   "source": [
    "import pandas as pd\n",
    "\n",
    "data = pd.DataFrame({\n",
    "    'X': [1, None, 3, 4, 5],\n",
    "    'Y': [2, 3, None, None, 5],\n",
    "    'Z': [1, 2, None, 4, None]\n",
    "})\n",
    "\n",
    "# Identify null values\n",
    "null_values = data.isnull()\n",
    "print(null_values)\n",
    "\n",
    "# Count null values in each column\n",
    "null_counts = data.isnull().sum()\n",
    "print(null_counts)\n"
   ]
  },
  {
   "cell_type": "markdown",
   "metadata": {},
   "source": [
    "### Q2. Remove rows with any null values from the DataFrame."
   ]
  },
  {
   "cell_type": "code",
   "execution_count": 5,
   "metadata": {},
   "outputs": [
    {
     "name": "stdout",
     "output_type": "stream",
     "text": [
      "     X    Y    Z\n",
      "0  1.0  2.0  1.0\n"
     ]
    }
   ],
   "source": [
    "# Remove rows with any null values\n",
    "data_dropped_rows = data.dropna()\n",
    "print(data_dropped_rows)\n"
   ]
  },
  {
   "cell_type": "markdown",
   "metadata": {},
   "source": [
    "### Q3. Impute null values in the DataFrame with the mean of the respective columns."
   ]
  },
  {
   "cell_type": "code",
   "execution_count": 6,
   "metadata": {},
   "outputs": [
    {
     "name": "stdout",
     "output_type": "stream",
     "text": [
      "      X         Y         Z\n",
      "0  1.00  2.000000  1.000000\n",
      "1  3.25  3.000000  2.000000\n",
      "2  3.00  3.333333  2.333333\n",
      "3  4.00  3.333333  4.000000\n",
      "4  5.00  5.000000  2.333333\n"
     ]
    }
   ],
   "source": [
    "# Impute null values with the mean of the column\n",
    "data_imputed_mean = data.fillna(data.mean())\n",
    "print(data_imputed_mean)\n"
   ]
  },
  {
   "cell_type": "markdown",
   "metadata": {},
   "source": [
    "### Q4. Identify outliers in the column 'X' using a box plot."
   ]
  },
  {
   "cell_type": "code",
   "execution_count": 7,
   "metadata": {},
   "outputs": [
    {
     "data": {
      "image/png": "[encoded data removed]",
      "text/plain": [
       "<Figure size 640x480 with 1 Axes>"
      ]
     },
     "metadata": {},
     "output_type": "display_data"
    }
   ],
   "source": [
    "import matplotlib.pyplot as plt\n",
    "\n",
    "# Visualize outliers using box plot\n",
    "plt.boxplot(data['X'].dropna())\n",
    "plt.title('Box plot of X')\n",
    "plt.show()\n"
   ]
  },
  {
   "cell_type": "markdown",
   "metadata": {},
   "source": [
    "### Q5. Remove outliers from the DataFrame using the IQR method."
   ]
  },
  {
   "cell_type": "code",
   "execution_count": 8,
   "metadata": {},
   "outputs": [
    {
     "name": "stdout",
     "output_type": "stream",
     "text": [
      "     X    Y    Z\n",
      "0  1.0  2.0  1.0\n",
      "1  NaN  3.0  2.0\n",
      "2  3.0  NaN  NaN\n",
      "3  4.0  NaN  4.0\n",
      "4  5.0  5.0  NaN\n"
     ]
    }
   ],
   "source": [
    "# Remove outliers using IQR method\n",
    "Q1 = data.quantile(0.25)\n",
    "Q3 = data.quantile(0.75)\n",
    "IQR = Q3 - Q1\n",
    "\n",
    "data_no_outliers = data[~((data < (Q1 - 1.5 * IQR)) | (data > (Q3 + 1.5 * IQR))).any(axis=1)]\n",
    "print(data_no_outliers)\n"
   ]
  },
  {
   "cell_type": "code",
   "execution_count": null,
   "metadata": {},
   "outputs": [],
   "source": []
  }
 ],
 "metadata": {
  "kernelspec": {
   "display_name": "Python 3",
   "language": "python",
   "name": "python3"
  },
  "language_info": {
   "codemirror_mode": {
    "name": "ipython",
    "version": 3
   },
   "file_extension": ".py",
   "mimetype": "text/x-python",
   "name": "python",
   "nbconvert_exporter": "python",
   "pygments_lexer": "ipython3",
   "version": "3.12.4"
  }
 },
 "nbformat": 4,
 "nbformat_minor": 2
}
