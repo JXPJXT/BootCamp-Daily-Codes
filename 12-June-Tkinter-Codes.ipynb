{
 "cells": [
  {
   "cell_type": "code",
   "execution_count": 6,
   "metadata": {},
   "outputs": [],
   "source": [
    "from tkinter import*\n",
    "root = Tk()\n",
    "myLabel = Label(root,text = \"Hello World\")\n",
    "root.mainloop()"
   ]
  },
  {
   "cell_type": "code",
   "execution_count": 3,
   "metadata": {},
   "outputs": [],
   "source": [
    "from tkinter import*\n",
    "root = Tk()\n",
    "root.mainloop()"
   ]
  },
  {
   "cell_type": "code",
   "execution_count": 5,
   "metadata": {},
   "outputs": [],
   "source": [
    "from tkinter import*\n",
    "root = Tk()\n",
    "mylabel = Label(root,text=\"I am a label widget\")\n",
    "mybutton = Button(root,text=\"I am Button\")\n",
    "mylabel.pack()\n",
    "mybutton.pack()\n",
    "root.mainloop()"
   ]
  },
  {
   "cell_type": "code",
   "execution_count": 8,
   "metadata": {},
   "outputs": [],
   "source": [
    "from tkinter import *\n",
    "root = Tk()\n",
    "Button(root, text=\"A\").pack(side=LEFT, expand=YES, fill=Y)\n",
    "Button(root, text=\"B\").pack(side=TOP, expand=YES, fill=BOTH)\n",
    "Button(root, text=\"C\").pack(side=RIGHT, expand=YES, fill=NONE, anchor=NE)\n",
    "Button(root, text=\"D\").pack(side=LEFT, expand=NO, fill=Y)\n",
    "Button(root, text=\"E\").pack(side=TOP, expand=NO, fill=BOTH)\n",
    "Button(root, text=\"F\").pack(side=RIGHT, expand=NO, fill=NONE)\n",
    "Button(root, text=\"G\").pack(side=BOTTOM, expand=YES, fill=Y)\n",
    "Button(root, text=\"H\").pack(side=TOP, expand=NO, fill=BOTH)\n",
    "Button(root, text=\"I\").pack(side=RIGHT, expand=NO)\n",
    "Button(root, text=\"J\").pack(anchor=SE)\n",
    "root.mainloop()"
   ]
  },
  {
   "cell_type": "code",
   "execution_count": 22,
   "metadata": {},
   "outputs": [],
   "source": [
    "from tkinter import*\n",
    "root = Tk()\n",
    "Button(root,text=\"ALL IS WELL\").pack(side = TOP,expand = YES,fill=X)\n",
    "Button(root,text=\"BACK TO BASICS\").pack(side = TOP,expand = YES,fill=X)\n",
    "Button(root,text=\"CATCH ME IF U CAN\").pack(side = TOP,expand = YES,fill=X)\n",
    "\n",
    "frame = Frame(root)\n",
    "frame.pack(expand=YES,fill=X)\n",
    "Button(frame,text=\"LEFT\").grid(row=0,column=0,sticky=W)\n",
    "Button(frame,text=\"CENTER\").grid(row=0,column=1)\n",
    "Button(frame,text=\"RIGHT\").grid(row=0,column=2,sticky=E)\n",
    "root.mainloop()\n"
   ]
  },
  {
   "cell_type": "code",
   "execution_count": 23,
   "metadata": {},
   "outputs": [],
   "source": [
    "from tkinter import*\n",
    "root = Tk()\n",
    "Label(root,text=\"Username\").grid(row=0,sticky = W)\n",
    "Label(root,text=\"Password\").grid(row=1, sticky=W)\n",
    "Entry(root).grid(row=0,column =1, sticky = E)\n",
    "Entry(root).grid(row=1,column=1,sticky=E)\n",
    "Button(root,text=\"Login\").grid(row=2, column=1,sticky=E)\n",
    "root.mainloop()"
   ]
  },
  {
   "cell_type": "code",
   "execution_count": 24,
   "metadata": {},
   "outputs": [],
   "source": [
    "from tkinter import*\n",
    "top = Tk()\n",
    "top.title('Find & Replace')\n",
    "\n",
    "Label(top,text = \"Find:\").grid(row=0, column=0, sticky=\"e\")\n",
    "Entry(top).grid(row=0,column=1,padx=2,pady=2,sticky='we',columnspan=9)\n",
    "\n",
    "Label(top,text=\"Replace:\").grid(row=1,column=0,sticky='e')\n",
    "Entry(top).grid(row=1,column=1,padx=2,pady=2,sticky='we',columnspan=9)\n",
    "\n",
    "Button(top, text='Find').grid(row=0,column=10,sticky='ew',padx=2,pady=2)\n",
    "Button(top,text=\"Find All\").grid(row=1,column=10,sticky='ew',padx=2)\n",
    "\n",
    "Button(top,text=\"Replace\").grid(row=2,column=10,sticky='ew',padx=2,pady=2)\n",
    "Button(top,text=\"Replace All\").grid(row=3,column=10,sticky='ew',padx=2,pady=2)\n",
    "\n",
    "Checkbutton(top,text='Match Whole Word Only').grid(row=2,column=1,columnspan=4,sticky = 'w')\n",
    "Checkbutton(top,text='Match Case').grid(row=3,column=1,columnspan=4,sticky='w')\n",
    "Checkbutton(top,text='Wrap Around').grid(row=4,column=1,columnspan=4,sticky='w')\n",
    "\n",
    "Label(top,text='Direction:').grid(row=2,column=6,sticky='w')\n",
    "Radiobutton(top,text='Up').grid(row=3,column=6,columnspan=6,sticky='w')\n",
    "Radiobutton(top,text='Down').grid(row=3,column=7,columnspan=2,sticky='e')\n",
    "\n",
    "top.mainloop()"
   ]
  },
  {
   "cell_type": "code",
   "execution_count": null,
   "metadata": {},
   "outputs": [],
   "source": []
  }
 ],
 "metadata": {
  "kernelspec": {
   "display_name": "Python 3",
   "language": "python",
   "name": "python3"
  },
  "language_info": {
   "codemirror_mode": {
    "name": "ipython",
    "version": 3
   },
   "file_extension": ".py",
   "mimetype": "text/x-python",
   "name": "python",
   "nbconvert_exporter": "python",
   "pygments_lexer": "ipython3",
   "version": "3.12.4"
  }
 },
 "nbformat": 4,
 "nbformat_minor": 2
}
