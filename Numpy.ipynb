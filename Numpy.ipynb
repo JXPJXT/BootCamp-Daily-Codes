{
 "cells": [
  {
   "cell_type": "markdown",
   "metadata": {},
   "source": [
    "# Introduction to NumPy\n",
    "\n",
    "NumPy, short for Numerical Python, is a fundamental package for scientific computing in Python. It provides support for arrays, matrices, and many mathematical functions to operate on these data structures efficiently. NumPy is the backbone of many other scientific libraries in Python, such as SciPy, Pandas, and TensorFlow, making it an essential tool for anyone working in data science, machine learning, or any field involving numerical computations.\n",
    "\n",
    "## Why Use NumPy?\n",
    "\n",
    "- **Efficiency**: NumPy arrays are more efficient in terms of both storage and performance compared to traditional Python lists.\n",
    "- **Functionality**: It offers a wide range of mathematical, logical, shape manipulation, sorting, selecting, I/O, and other operations.\n",
    "- **Interoperability**: NumPy arrays can interface with a variety of databases, file formats, and other libraries, making data manipulation more streamlined.\n",
    "- **Community and Ecosystem**: As a widely used library, it has a robust community and extensive documentation, making it easier to find help and resources.\n",
    "\n",
    "## Key Features of NumPy\n",
    "\n",
    "- **Ndarray**: A powerful N-dimensional array object.\n",
    "- **Mathematical Functions**: Comprehensive mathematical functions for operations on arrays.\n",
    "- **Broadcasting**: Allows operations on arrays of different shapes.\n",
    "- **Indexing**: Advanced indexing capabilities for array manipulation.\n",
    "- **Integration**: Tools for integrating C/C++ and Fortran code.\n",
    "\n",
    "## Installation\n",
    "\n",
    "Before we dive into using NumPy, we need to install it. If you haven't already installed NumPy, you can do so using pip:\n",
    "\n",
    "```sh\n",
    "pip install numpy\n"
   ]
  },
  {
   "cell_type": "markdown",
   "metadata": {},
   "source": [
    "## Importing Numpy\n",
    "To use NumPy in your Python code, you need to import it. It is conventionally imported with the alias np:"
   ]
  },
  {
   "cell_type": "code",
   "execution_count": null,
   "metadata": {},
   "outputs": [],
   "source": [
    "import numpy as np\n"
   ]
  },
  {
   "cell_type": "markdown",
   "metadata": {},
   "source": [
    "## Creating Arrays\n",
    "The core of NumPy is the ndarray object. You can create an array using np.array():"
   ]
  },
  {
   "cell_type": "code",
   "execution_count": 1,
   "metadata": {},
   "outputs": [],
   "source": [
    "import numpy as np\n",
    "\n",
    "# Creating a 1D array\n",
    "array_1d = np.array([1, 2, 3, 4, 5])\n",
    "\n",
    "# Creating a 2D array\n",
    "array_2d = np.array([[1, 2, 3], [4, 5, 6]])\n"
   ]
  },
  {
   "cell_type": "markdown",
   "metadata": {},
   "source": [
    "## Array Operations\n",
    "NumPy supports a wide range of operations. Here are a few examples:\n",
    "\n",
    "### Basic Operations"
   ]
  },
  {
   "cell_type": "code",
   "execution_count": 2,
   "metadata": {},
   "outputs": [
    {
     "name": "stdout",
     "output_type": "stream",
     "text": [
      "[5 7 9]\n",
      "[ 4 10 18]\n",
      "32\n"
     ]
    }
   ],
   "source": [
    "# Element-wise addition\n",
    "a = np.array([1, 2, 3])\n",
    "b = np.array([4, 5, 6])\n",
    "print(a + b)  # Output: [5 7 9]\n",
    "\n",
    "# Element-wise multiplication\n",
    "print(a * b)  # Output: [4 10 18]\n",
    "\n",
    "# Dot product\n",
    "print(np.dot(a, b))  # Output: 32\n"
   ]
  },
  {
   "cell_type": "markdown",
   "metadata": {},
   "source": [
    "## Broadcasting\n",
    "Broadcasting allows NumPy to perform operations on arrays of different shapes:"
   ]
  },
  {
   "cell_type": "code",
   "execution_count": 3,
   "metadata": {},
   "outputs": [
    {
     "name": "stdout",
     "output_type": "stream",
     "text": [
      "[[2 3 4]\n",
      " [3 4 5]\n",
      " [4 5 6]]\n"
     ]
    }
   ],
   "source": [
    "a = np.array([1, 2, 3])\n",
    "b = np.array([[1], [2], [3]])\n",
    "print(a + b)\n",
    "# Output:\n",
    "# [[2 3 4]\n",
    "#  [3 4 5]\n",
    "#  [4 5 6]]\n"
   ]
  },
  {
   "cell_type": "markdown",
   "metadata": {},
   "source": [
    "## Array Slicing and Indexing\n",
    "You can access elements, subarrays, and modify arrays using slicing and indexing:"
   ]
  },
  {
   "cell_type": "code",
   "execution_count": 4,
   "metadata": {},
   "outputs": [
    {
     "name": "stdout",
     "output_type": "stream",
     "text": [
      "1\n",
      "[2 3 4]\n",
      "[ 1  2 10  4  5]\n"
     ]
    }
   ],
   "source": [
    "a = np.array([1, 2, 3, 4, 5])\n",
    "\n",
    "# Accessing elements\n",
    "print(a[0])  # Output: 1\n",
    "\n",
    "# Slicing\n",
    "print(a[1:4])  # Output: [2 3 4]\n",
    "\n",
    "# Modifying elements\n",
    "a[2] = 10\n",
    "print(a)  # Output: [ 1  2 10  4  5]\n"
   ]
  },
  {
   "cell_type": "markdown",
   "metadata": {},
   "source": [
    "## Array Manipulation\n",
    "\n",
    "NumPy provides a variety of functions to manipulate arrays, allowing for reshaping, flattening, concatenating, stacking, and splitting arrays. These functionalities make it easy to transform data into the desired format for analysis or computation.\n",
    "\n",
    "### Reshaping Arrays\n",
    "\n",
    "The `reshape()` function changes the shape of an array without changing its data:\n",
    "\n",
    "```python\n",
    "import numpy as np\n",
    "\n",
    "# Original array\n",
    "a = np.array([[1, 2, 3], [4, 5, 6]])\n",
    "\n",
    "# Reshaping to a 3x2 array\n",
    "reshaped_array = a.reshape((3, 2))\n",
    "print(reshaped_array)\n",
    "# Output:\n",
    "# [[1 2]\n",
    "#  [3 4]\n",
    "#  [5 6]]\n"
   ]
  },
  {
   "cell_type": "markdown",
   "metadata": {},
   "source": [
    "## Flattening Arrays\n",
    "Flattening an array means converting a multi-dimensional array into a 1D array. This can be done using the flatten() or ravel() functions:"
   ]
  },
  {
   "cell_type": "code",
   "execution_count": 5,
   "metadata": {},
   "outputs": [
    {
     "name": "stdout",
     "output_type": "stream",
     "text": [
      "[ 1  2 10  4  5]\n",
      "[ 1  2 10  4  5]\n"
     ]
    }
   ],
   "source": [
    "# Flattening the array\n",
    "flattened_array = a.flatten()\n",
    "print(flattened_array)\n",
    "# Output: [1 2 3 4 5 6]\n",
    "\n",
    "# Using ravel (returns a flattened array, but changes to the raveled array affect the original array)\n",
    "raveled_array = a.ravel()\n",
    "print(raveled_array)\n",
    "# Output: [1 2 3 4 5 6]\n"
   ]
  },
  {
   "cell_type": "markdown",
   "metadata": {},
   "source": [
    "## Concatenating Arrays\n",
    "The concatenate() function joins two or more arrays along an existing axis:"
   ]
  },
  {
   "cell_type": "code",
   "execution_count": 6,
   "metadata": {},
   "outputs": [
    {
     "name": "stdout",
     "output_type": "stream",
     "text": [
      "[[1 2]\n",
      " [3 4]\n",
      " [5 6]]\n"
     ]
    }
   ],
   "source": [
    "a = np.array([[1, 2], [3, 4]])\n",
    "b = np.array([[5, 6]])\n",
    "\n",
    "# Concatenating along axis 0\n",
    "concatenated_array = np.concatenate((a, b), axis=0)\n",
    "print(concatenated_array)\n",
    "# Output:\n",
    "# [[1 2]\n",
    "#  [3 4]\n",
    "#  [5 6]]\n"
   ]
  },
  {
   "cell_type": "markdown",
   "metadata": {},
   "source": [
    "## Stacking Arrays\n",
    "Stacking is similar to concatenation, but it joins arrays along a new axis. vstack(), hstack(), and dstack() are commonly used functions:"
   ]
  },
  {
   "cell_type": "code",
   "execution_count": 7,
   "metadata": {},
   "outputs": [
    {
     "name": "stdout",
     "output_type": "stream",
     "text": [
      "[[1 2]\n",
      " [3 4]]\n",
      "[1 2 3 4]\n",
      "[[[1 3]]\n",
      "\n",
      " [[2 4]]]\n"
     ]
    }
   ],
   "source": [
    "a = np.array([1, 2])\n",
    "b = np.array([3, 4])\n",
    "\n",
    "# Vertical stacking\n",
    "vstacked_array = np.vstack((a, b))\n",
    "print(vstacked_array)\n",
    "# Output:\n",
    "# [[1 2]\n",
    "#  [3 4]]\n",
    "\n",
    "# Horizontal stacking\n",
    "hstacked_array = np.hstack((a, b))\n",
    "print(hstacked_array)\n",
    "# Output: [1 2 3 4]\n",
    "\n",
    "# Depth stacking\n",
    "a = np.array([[1], [2]])\n",
    "b = np.array([[3], [4]])\n",
    "dstacked_array = np.dstack((a, b))\n",
    "print(dstacked_array)\n",
    "# Output:\n",
    "# [[[1 3]]\n",
    "#  [[2 4]]]\n"
   ]
  },
  {
   "cell_type": "markdown",
   "metadata": {},
   "source": [
    "## Splitting Arrays\n",
    "The split() function splits an array into multiple sub-arrays. You can specify the number of splits or the indices at which to split:"
   ]
  },
  {
   "cell_type": "code",
   "execution_count": 8,
   "metadata": {},
   "outputs": [
    {
     "name": "stdout",
     "output_type": "stream",
     "text": [
      "[array([1, 2]), array([3, 4]), array([5, 6])]\n",
      "[array([1, 2]), array([3, 4]), array([5, 6])]\n"
     ]
    }
   ],
   "source": [
    "a = np.array([1, 2, 3, 4, 5, 6])\n",
    "\n",
    "# Splitting into 3 equal sub-arrays\n",
    "split_array = np.array_split(a, 3)\n",
    "print(split_array)\n",
    "# Output: [array([1, 2]), array([3, 4]), array([5, 6])]\n",
    "\n",
    "# Splitting at specified indices\n",
    "split_array = np.split(a, [2, 4])\n",
    "print(split_array)\n",
    "# Output: [array([1, 2]), array([3, 4]), array([5, 6])]\n"
   ]
  },
  {
   "cell_type": "code",
   "execution_count": null,
   "metadata": {},
   "outputs": [],
   "source": []
  }
 ],
 "metadata": {
  "kernelspec": {
   "display_name": "Python 3",
   "language": "python",
   "name": "python3"
  },
  "language_info": {
   "codemirror_mode": {
    "name": "ipython",
    "version": 3
   },
   "file_extension": ".py",
   "mimetype": "text/x-python",
   "name": "python",
   "nbconvert_exporter": "python",
   "pygments_lexer": "ipython3",
   "version": "3.12.4"
  }
 },
 "nbformat": 4,
 "nbformat_minor": 2
}
