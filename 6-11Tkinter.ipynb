{
 "cells": [
  {
   "cell_type": "markdown",
   "metadata": {},
   "source": [
    "# Tkinter\n",
    "It is a standard Python interface to the Tk GUI toolkit shipped with Python. Python Tkinter is the fastest and easiest way to create GUI applications. Creating a GUI using Tkinter is an easy task.Tkinter is a thin object-oriented layer on top of the Tcl/Tk GUI toolkit. Tcl (Tool Command Language) is a dynamic programming language, while Tk is a GUI toolkit that provides a robust and platform-independent windowing interface.\n"
   ]
  },
  {
   "cell_type": "markdown",
   "metadata": {},
   "source": [
    "# Widgets in Tkinter\n"
   ]
  },
  {
   "cell_type": "markdown",
   "metadata": {},
   "source": [
    "### 1.Label\n",
    "To display text or images.\n",
    "Example:\n",
    "\n",
    "**label = tk.Label(master, text=\"Hello, Tkinter!\")**\n"
   ]
  },
  {
   "cell_type": "markdown",
   "metadata": {},
   "source": [
    "### 2.Button"
   ]
  },
  {
   "cell_type": "markdown",
   "metadata": {},
   "source": [
    "Creates a button that users can click to trigger an action.\n",
    "Example:\n",
    "\n",
    "**button = tk.Button(master, text=\"Click Me\", command=callback_function)**"
   ]
  },
  {
   "cell_type": "markdown",
   "metadata": {},
   "source": [
    "### 3.Entry\n"
   ]
  },
  {
   "cell_type": "markdown",
   "metadata": {},
   "source": [
    "Provides a single-line text entry field for user input.\n",
    "Example:\n",
    "\n",
    "**entry = tk.Entry(master)**"
   ]
  },
  {
   "cell_type": "markdown",
   "metadata": {},
   "source": [
    "### 4.Text"
   ]
  },
  {
   "cell_type": "markdown",
   "metadata": {},
   "source": [
    "Multi-line text input field.\n",
    "Example:\n",
    "\n",
    "**text = tk.Text(master)**\n"
   ]
  },
  {
   "cell_type": "markdown",
   "metadata": {},
   "source": [
    "### 5.Frame"
   ]
  },
  {
   "cell_type": "markdown",
   "metadata": {},
   "source": [
    "A container widget used to organize other widgets.\n",
    "Example:\n",
    "\n",
    "**frame = tk.Frame(master)**\n",
    "\n"
   ]
  },
  {
   "cell_type": "markdown",
   "metadata": {},
   "source": [
    "### 6.Canvas"
   ]
  },
  {
   "cell_type": "markdown",
   "metadata": {},
   "source": [
    "Create drawings or complex layouts involving shapes, images, and other widgets.\n",
    "Example:\n",
    "\n",
    "**canvas = tk.Canvas(master)**"
   ]
  },
  {
   "cell_type": "markdown",
   "metadata": {},
   "source": [
    "### 7.Checkbutton"
   ]
  },
  {
   "cell_type": "markdown",
   "metadata": {},
   "source": [
    " Create a checkbox that can be toggled on or off.\n",
    " Example:\n",
    "**checkbutton = tk.Checkbutton(master, text=\"Check Me\")**\n"
   ]
  },
  {
   "cell_type": "markdown",
   "metadata": {},
   "source": [
    "### 8.Radiobutton"
   ]
  },
  {
   "cell_type": "markdown",
   "metadata": {},
   "source": [
    "Create a set of radio buttons for selecting one option from a group.\n",
    "Example:\n",
    "**radiobutton = tk.Radiobutton(master, text=\"Option 1\", variable=var, value=1)**"
   ]
  },
  {
   "cell_type": "markdown",
   "metadata": {},
   "source": [
    "### 9.Listbox"
   ]
  },
  {
   "cell_type": "markdown",
   "metadata": {},
   "source": [
    " Display a list of items from which a user can select.\n",
    " Example:\n",
    "\n",
    "**listbox = tk.Listbox(master)**"
   ]
  },
  {
   "cell_type": "markdown",
   "metadata": {},
   "source": [
    "### 10.Scrollbar"
   ]
  },
  {
   "cell_type": "markdown",
   "metadata": {},
   "source": [
    " Add scrolling capability to other widgets like Text, Listbox, Canvas, etc.\n",
    " Example:\n",
    " \n",
    " **scrollbar = tk.Scrollbar(master)**"
   ]
  },
  {
   "cell_type": "markdown",
   "metadata": {},
   "source": [
    "### 11.Scale"
   ]
  },
  {
   "cell_type": "markdown",
   "metadata": {},
   "source": [
    "Provide a slider that lets users select a value from a range.\n",
    "Example:\n",
    "\n",
    "**scale = tk.Scale(master, from_=0, to=100)**"
   ]
  },
  {
   "cell_type": "markdown",
   "metadata": {},
   "source": [
    "### 12.Spinbox"
   ]
  },
  {
   "cell_type": "markdown",
   "metadata": {},
   "source": [
    "Allow the user to select a value from a fixed set of values.\n",
    "Example:\n",
    "\n",
    "**spinbox = tk.Spinbox(master, from_=0, to=10)**\n"
   ]
  },
  {
   "cell_type": "markdown",
   "metadata": {},
   "source": [
    "### 13.Menu"
   ]
  },
  {
   "cell_type": "markdown",
   "metadata": {},
   "source": [
    "Create menus and submenus for the application\n",
    "Example:\n",
    "\n",
    "**menu = tk.Menu(master)**"
   ]
  },
  {
   "cell_type": "markdown",
   "metadata": {},
   "source": [
    "### 14.Menubutton"
   ]
  },
  {
   "cell_type": "markdown",
   "metadata": {},
   "source": [
    "Create a button that displays a menu when clicked.\n",
    "Example:\n",
    "\n",
    "**menubutton = tk.Menubutton(master, text=\"Options\")**"
   ]
  },
  {
   "cell_type": "markdown",
   "metadata": {},
   "source": [
    "### 15.Message"
   ]
  },
  {
   "cell_type": "markdown",
   "metadata": {},
   "source": [
    "Display text messages, similar to a Label but can wrap text.\n",
    "Example:\n",
    "\n",
    "**message = tk.Message(master, text=\"This is a message.\"**\n"
   ]
  },
  {
   "cell_type": "markdown",
   "metadata": {},
   "source": [
    "### 16.PanedWindow"
   ]
  },
  {
   "cell_type": "markdown",
   "metadata": {},
   "source": [
    "Create a window that can contain multiple panes which can be resized by the user.\n",
    "Example:\n",
    "\n",
    "**panedwindow = tk.PanedWindow(master)**"
   ]
  },
  {
   "cell_type": "markdown",
   "metadata": {},
   "source": [
    "### 17.LabelFrame"
   ]
  },
  {
   "cell_type": "markdown",
   "metadata": {},
   "source": [
    " A frame with a label around it, used to group related widgets.\n",
    " Example:\n",
    "\n",
    " **labelframe = tk.LabelFrame(master, text=\"Group 1\")**"
   ]
  },
  {
   "cell_type": "markdown",
   "metadata": {},
   "source": [
    "### 18.Toplevel"
   ]
  },
  {
   "cell_type": "markdown",
   "metadata": {},
   "source": [
    "Create a new top-level window separate from the main application window.\n",
    "Example:\n",
    "\n",
    "**toplevel = tk.Toplevel(master)**"
   ]
  },
  {
   "cell_type": "code",
   "execution_count": 1,
   "metadata": {},
   "outputs": [],
   "source": [
    "import tkinter as tk\n",
    "from tkinter import messagebox\n",
    "\n",
    "class LibrarySystem:\n",
    "    def __init__(self, root):\n",
    "        self.root = root\n",
    "        self.root.title(\"Library System\")\n",
    "        \n",
    "        \n",
    "        self.book_list = []\n",
    "        \n",
    "        self.main_frame = tk.Frame(root)\n",
    "        self.main_frame.pack(pady=20)\n",
    "        \n",
    "        self.title_label = tk.Label(self.main_frame, text=\"Library System\", font=(\"Arial\", 24))\n",
    "        self.title_label.grid(row=0, column=0, columnspan=2)\n",
    "        \n",
    "        self.book_label = tk.Label(self.main_frame, text=\"Book Title:\")\n",
    "        self.book_label.grid(row=1, column=0, sticky=tk.E)\n",
    "        \n",
    "        self.book_entry = tk.Entry(self.main_frame)\n",
    "        self.book_entry.grid(row=1, column=1)\n",
    "        \n",
    "        self.author_label = tk.Label(self.main_frame, text=\"Author:\")\n",
    "        self.author_label.grid(row=2, column=0, sticky=tk.E)\n",
    "        \n",
    "        self.author_entry = tk.Entry(self.main_frame)\n",
    "        self.author_entry.grid(row=2, column=1)\n",
    "        \n",
    "        self.add_button = tk.Button(self.main_frame, text=\"Add Book\", command=self.add_book)\n",
    "        self.add_button.grid(row=3, column=0, columnspan=2)\n",
    "        \n",
    "        self.book_listbox = tk.Listbox(self.main_frame, height=10, width=50)\n",
    "        self.book_listbox.grid(row=4, column=0, columnspan=2, pady=10)\n",
    "        \n",
    "        self.scrollbar = tk.Scrollbar(self.main_frame, orient=tk.VERTICAL)\n",
    "        self.book_listbox.config(yscrollcommand=self.scrollbar.set)\n",
    "        self.scrollbar.config(command=self.book_listbox.yview)\n",
    "        self.scrollbar.grid(row=4, column=2, sticky=tk.NS)\n",
    "        \n",
    "        self.search_label = tk.Label(self.main_frame, text=\"Search:\")\n",
    "        self.search_label.grid(row=5, column=0, sticky=tk.E)\n",
    "        \n",
    "        self.search_entry = tk.Entry(self.main_frame)\n",
    "        self.search_entry.grid(row=5, column=1)\n",
    "        \n",
    "        self.search_button = tk.Button(self.main_frame, text=\"Search Book\", command=self.search_book)\n",
    "        self.search_button.grid(row=6, column=0, columnspan=2)\n",
    "        \n",
    "        self.checkout_button = tk.Button(self.main_frame, text=\"Check Out Book\", command=self.checkout_book)\n",
    "        self.checkout_button.grid(row=7, column=0, columnspan=2, pady=10)\n",
    "        \n",
    "        self.menu = tk.Menu(root)\n",
    "        self.root.config(menu=self.menu)\n",
    "        \n",
    "        self.file_menu = tk.Menu(self.menu)\n",
    "        self.menu.add_cascade(label=\"File\", menu=self.file_menu)\n",
    "        self.file_menu.add_command(label=\"Exit\", command=root.quit)\n",
    "        \n",
    "    def add_book(self):\n",
    "        title = self.book_entry.get()\n",
    "        author = self.author_entry.get()\n",
    "        if title and author:\n",
    "            book = f\"{title} by {author}\"\n",
    "            self.book_list.append(book)\n",
    "            self.update_book_listbox()\n",
    "            self.book_entry.delete(0, tk.END)\n",
    "            self.author_entry.delete(0, tk.END)\n",
    "        else:\n",
    "            messagebox.showwarning(\"Input Error\", \"Please enter both title and author\")\n",
    "    \n",
    "    def update_book_listbox(self):\n",
    "        self.book_listbox.delete(0, tk.END)\n",
    "        for book in self.book_list:\n",
    "            self.book_listbox.insert(tk.END, book)\n",
    "    \n",
    "    def search_book(self):\n",
    "        query = self.search_entry.get().lower()\n",
    "        if query:\n",
    "            results = [book for book in self.book_list if query in book.lower()]\n",
    "            self.book_listbox.delete(0, tk.END)\n",
    "            for book in results:\n",
    "                self.book_listbox.insert(tk.END, book)\n",
    "        else:\n",
    "            self.update_book_listbox()\n",
    "    \n",
    "    def checkout_book(self):\n",
    "        selected_book = self.book_listbox.curselection()\n",
    "        if selected_book:\n",
    "            book = self.book_listbox.get(selected_book)\n",
    "            self.book_list.remove(book)\n",
    "            self.update_book_listbox()\n",
    "            messagebox.showinfo(\"Checkout\", f'You have checked out \"{book}\"')\n",
    "        else:\n",
    "            messagebox.showwarning(\"Selection Error\", \"Please select a book to check out\")\n",
    "\n",
    "if __name__ == \"__main__\":\n",
    "    root = tk.Tk()\n",
    "    app = LibrarySystem(root)\n",
    "    root.mainloop()\n"
   ]
  },
  {
   "cell_type": "markdown",
   "metadata": {},
   "source": []
  }
 ],
 "metadata": {
  "kernelspec": {
   "display_name": "Python 3",
   "language": "python",
   "name": "python3"
  },
  "language_info": {
   "codemirror_mode": {
    "name": "ipython",
    "version": 3
   },
   "file_extension": ".py",
   "mimetype": "text/x-python",
   "name": "python",
   "nbconvert_exporter": "python",
   "pygments_lexer": "ipython3",
   "version": "3.12.4"
  }
 },
 "nbformat": 4,
 "nbformat_minor": 2
}
