{
 "cells": [
  {
   "cell_type": "code",
   "execution_count": 1,
   "metadata": {},
   "outputs": [
    {
     "name": "stdout",
     "output_type": "stream",
     "text": [
      "_____________\n"
     ]
    }
   ],
   "source": [
    "secret = [2, 4, 2, 6, 8, 1, 3, 5, 7, 4, 10, 12, 14]\n",
    "alphabet = \"abcdefghijklmnopqrstuvwxyz\"\n",
    "\n",
    "message = []\n",
    "for code in secret:\n",
    "    offset = code % 26  \n",
    "    index = (code - offset) // 2 - 1 \n",
    "    if 0 <= index < len(alphabet):\n",
    "        message.append(alphabet[index])\n",
    "    else:\n",
    "        message.append(\"_\")  \n",
    "print(\"\".join(message))\n"
   ]
  },
  {
   "cell_type": "code",
   "execution_count": null,
   "metadata": {},
   "outputs": [],
   "source": [
    "data = [1, 2, 3, \"apple\", \"banana\", 4, 5, \"cherry\"]\n",
    "\n",
    "def shuffle_with_conditions(data):\n",
    "    strings = [item for item in data if isinstance(item, str)]\n",
    "    numbers = [item for item in data if isinstance(item, int)]\n",
    "    shuffled_strings = strings[::-1] \n",
    "    return shuffled_strings + numbers[:2] + numbers[2:]  \n",
    "\n",
    "result = shuffle_with_conditions(data.copy()) \n",
    "print(result)\n"
   ]
  },
  {
   "cell_type": "code",
   "execution_count": null,
   "metadata": {},
   "outputs": [],
   "source": [
    "numbers = [1, 4, 5, 2, 8, 9, 3, 7, 6]\n",
    "\n",
    "squared_evens = [num * num for num in numbers if num % 2 == 0 and num > 4]\n",
    "tripled_odds = [num * 3 for num in numbers if num % 2 != 0 and num < 5]\n",
    "\n",
    "combined = squared_evens + tripled_odds\n",
    "print(sorted(combined))  \n"
   ]
  },
  {
   "cell_type": "code",
   "execution_count": null,
   "metadata": {},
   "outputs": [],
   "source": [
    "data = [\"apple\", \"banana\", \"cherry\", \"123\", \"456\", \"abc\"]\n",
    "\n",
    "def custom_sort(data):\n",
    "    def sort_key(item):\n",
    "        if isinstance(item, str):\n",
    "            return item.lower() \n",
    "        else:\n",
    "            return int(item)  \n",
    "    return sorted(data, key=sort_key)\n",
    "\n",
    "sorted_data = custom_sort(data.copy())\n",
    "print(sorted_data)\n"
   ]
  },
  {
   "cell_type": "code",
   "execution_count": null,
   "metadata": {},
   "outputs": [],
   "source": [
    "list1 = [1, 2, 3, 4, 2, 1]\n",
    "list2 = [\"apple\", \"banana\", \"cherry\", \"apple\", \"orange\"]\n",
    "\n",
    "def merge_and_deduplicate(list1, list2):\n",
    "    merged = list1 + list2\n",
    "    seen = set() \n",
    "    deduplicated = [x for x in merged if x not in seen and not seen.add(x)]\n",
    "    return deduplicated\n",
    "\n",
    "merged_list = merge_and_deduplicate(list1.copy(), list2.copy())\n",
    "print(merged_list)\n"
   ]
  },
  {
   "cell_type": "code",
   "execution_count": null,
   "metadata": {},
   "outputs": [],
   "source": [
    "def power_set(data_set):\n",
    "    if not data_set:\n",
    "        return {frozenset()}  \n",
    "    smaller_set_power_set = power_set(data_set.copy().pop())\n",
    "    return smaller_set_power_set.union({frozenset(item)} for item in data_set) | smaller_set_power_set.union({item | subset for subset in smaller_set_power_set for item in data_set})\n",
    "\n",
    "data = {1, 2, 3}\n",
    "power_sets = power_set(data)\n",
    "print(len(power_sets))  "
   ]
  },
  {
   "cell_type": "code",
   "execution_count": null,
   "metadata": {},
   "outputs": [],
   "source": [
    "set1 = {1, 2, 3, 4, \"apple\", \"banana\"}\n",
    "set2 = {2, 4, 6, 8, \"cherry\", \"orange\"}\n",
    "\n",
    "def filtered_difference(set1, set2, filter_func):\n",
    "    return {item for item in set1.difference(set2) if filter_func(item)}\n",
    "\n",
    "def is_even(num):\n",
    "    return num % 2 == 0\n",
    "\n",
    "filtered_difference_evens = filtered_difference(set1, set2, is_even)\n",
    "filtered_difference_strings = filtered_difference(set1, set2, lambda x: isinstance(x, str))\n",
    "\n",
    "print(filtered_difference_evens)\n",
    "print(filtered_difference_strings)\n"
   ]
  },
  {
   "cell_type": "code",
   "execution_count": null,
   "metadata": {},
   "outputs": [],
   "source": [
    "def jaccard_similarity(set1, set2):\n",
    "    intersection = len(set1.intersection(set2))\n",
    "    union = len(set1.union(set2))\n",
    "    return intersection / union if union else 0  \n",
    "\n",
    "setA = {1, 2, 3}\n",
    "setB = {2, 3, 4}\n",
    "\n",
    "similarity = jaccard_similarity(setA, setB)\n",
    "print(similarity)\n"
   ]
  },
  {
   "cell_type": "code",
   "execution_count": null,
   "metadata": {},
   "outputs": [],
   "source": [
    "def fuzzy_match(text1, text2):\n",
    "    char_set1 = set(text1.lower())\n",
    "    char_set2 = set(text2.lower())\n",
    "    similarity = len(char_set1.intersection(char_set2)) / max(len(char_set1), len(char_set2))\n",
    "    threshold = 0.8  \n",
    "    return similarity >= threshold\n",
    "\n",
    "text_a = \"apple\"\n",
    "text_b = \"aplle\"\n",
    "\n",
    "if fuzzy_match(text_a, text_b):\n",
    "    print(\"Texts are considered similar\")\n",
    "else:\n",
    "    print(\"Texts are not considered similar\")\n"
   ]
  },
  {
   "cell_type": "code",
   "execution_count": null,
   "metadata": {},
   "outputs": [],
   "source": [
    "setA = {1, 2, 3}\n",
    "setB = {\"apple\", \"banana\", 4}\n",
    "\n",
    "\n",
    "modified_setA = setA.copy()\n",
    "modified_setA.update(setB)  \n",
    "print(modified_setA)\n",
    "print(setA.isdisjoint(setB))  "
   ]
  },
  {
   "cell_type": "code",
   "execution_count": null,
   "metadata": {},
   "outputs": [],
   "source": [
    "data_tuple = (10, 20, 30, \"apple\", \"banana\")\n",
    "\n",
    "def unpack_with_logic(data):\n",
    "    numbers, *fruits = data  \n",
    "    return sum(numbers), max(fruits)\n",
    "\n",
    "results = unpack_with_logic(data_tuple.copy())\n",
    "print(results)\n"
   ]
  },
  {
   "cell_type": "code",
   "execution_count": null,
   "metadata": {},
   "outputs": [],
   "source": [
    "nested_tuple = ((1, 2, 3), (\"apple\", \"banana\"), (4, 5, 6))\n",
    "\n",
    "def access_nested_element(data, index1, index2):\n",
    "    return data[index1][index2]\n",
    "\n",
    "first_fruit = access_nested_element(nested_tuple, 1, 0)\n",
    "print(first_fruit)\n"
   ]
  },
  {
   "cell_type": "code",
   "execution_count": null,
   "metadata": {},
   "outputs": [],
   "source": [
    "data_tuple = (\"apple\", \"banana\")\n",
    "\n",
    "def swap_elements(data):\n",
    "    temp = data[0]\n",
    "    data = (data[1], temp)\n",
    "    return data\n",
    "\n",
    "swapped_tuple = swap_elements(data_tuple.copy())\n",
    "print(swapped_tuple)\n"
   ]
  },
  {
   "cell_type": "code",
   "execution_count": null,
   "metadata": {},
   "outputs": [],
   "source": [
    "data = (1, 2, 3, 4, 5, \"apple\", \"banana\", 6, 7, 8)\n",
    "\n",
    "squared_evens = tuple(num * num for num in data if isinstance(num, int) and num % 2 == 0)\n",
    "filtered_tuple = squared_evens + tuple(item for item in data if isinstance(item, str))\n",
    "\n",
    "print(filtered_tuple)\n"
   ]
  },
  {
   "cell_type": "code",
   "execution_count": null,
   "metadata": {},
   "outputs": [],
   "source": [
    "original_tuple = (\"hello\", 10, True)\n",
    "\n",
    "\n",
    "modified_tuple = original_tuple + (\"world\",)  \n",
    "print(modified_tuple)\n",
    "print(original_tuple.count(10)) \n"
   ]
  },
  {
   "cell_type": "code",
   "execution_count": null,
   "metadata": {},
   "outputs": [],
   "source": [
    "data = {\"apple\": 10, \"banana\": 15, \"cherry\": 20}\n",
    "\n",
    "squared_values = {key: value * value for key, value in data.items()}\n",
    "doubled_keys = {value * 2: key for key, value in data.items()} \n",
    "\n",
    "print(squared_values)\n",
    "print(doubled_keys)\n"
   ]
  },
  {
   "cell_type": "code",
   "execution_count": null,
   "metadata": {},
   "outputs": [],
   "source": [
    "user_data = {\"name\": \"Alice\", \"age\": 25, \"city\": None}\n",
    "\n",
    "city_input = input(\"Enter city (optional): \")\n",
    "user_data[\"city\"] = city_input if city_input else \"Unknown\"\n",
    "\n",
    "print(user_data)\n"
   ]
  },
  {
   "cell_type": "code",
   "execution_count": null,
   "metadata": {},
   "outputs": [],
   "source": [
    "dict1 = {\"apple\": 10, \"banana\": 20}\n",
    "dict2 = {\"apple\": 15, \"cherry\": 30}\n",
    "\n",
    "def merge_with_resolution(dict1, dict2):\n",
    "    merged_dict = {**dict1, **dict2} \n",
    "    for key, value in dict2.items():\n",
    "        merged_dict[key] = max(merged_dict[key], value) if key in merged_dict else value  \n",
    "    return merged_dict\n",
    "\n",
    "merged_data = merge_with_resolution(dict1.copy(), dict2.copy())\n",
    "print(merged_data)\n"
   ]
  },
  {
   "cell_type": "code",
   "execution_count": null,
   "metadata": {},
   "outputs": [],
   "source": [
    "original_dict = {\"name\": \"Bob\", \"age\": 30, \"hobbies\": [\"reading\", \"coding\"]}\n",
    "\n",
    "#\n",
    "modified_dict = original_dict.copy()  \n",
    "modified_dict[\"hobbies\"].append(\"gaming\")  \n",
    "\n",
    "print(modified_dict)\n",
    "print(original_dict.get(\"age\")) \n"
   ]
  },
  {
   "cell_type": "code",
   "execution_count": null,
   "metadata": {},
   "outputs": [],
   "source": [
    "import random\n",
    "\n",
    "def generate_data():\n",
    "    data = []\n",
    "    for _ in range(100):\n",
    "        data.append((random.randint(1, 50), random.choice(['A', 'B', 'C', 'D'])))\n",
    "    return data\n",
    "\n",
    "def process_data(data):\n",
    "    counts = {}\n",
    "    for item in data:\n",
    "        if item[1] in counts:\n",
    "            counts[item[1]] += 1\n",
    "        else:\n",
    "            counts[item[1]] = 1\n",
    "    \n",
    "    unique_values = set([item[0] for item in data])\n",
    "    \n",
    "    max_tuple = max(data)\n",
    "    \n",
    "    return counts, unique_values, max_tuple\n",
    "\n",
    "def main():\n",
    "    data = generate_data()\n",
    "    counts, unique_values, max_tuple = process_data(data)\n",
    "    \n",
    "    print(\"Counts of each category:\")\n",
    "    print(counts)\n",
    "    print(\"\\nUnique values in the data:\")\n",
    "    print(unique_values)\n",
    "    print(\"\\nMaximum tuple value:\")\n",
    "    print(max_tuple)\n",
    "\n",
    "if __name__ == \"__main__\":\n",
    "    main()\n"
   ]
  }
 ],
 "metadata": {
  "kernelspec": {
   "display_name": "Python 3",
   "language": "python",
   "name": "python3"
  },
  "language_info": {
   "codemirror_mode": {
    "name": "ipython",
    "version": 3
   },
   "file_extension": ".py",
   "mimetype": "text/x-python",
   "name": "python",
   "nbconvert_exporter": "python",
   "pygments_lexer": "ipython3",
   "version": "3.12.4"
  }
 },
 "nbformat": 4,
 "nbformat_minor": 2
}
